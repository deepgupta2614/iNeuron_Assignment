{
 "cells": [
  {
   "cell_type": "raw",
   "id": "a0f6f70a",
   "metadata": {},
   "source": [
    "1. In the below elements which of them are values or an expression? eg:- values can be\n",
    "integer or string and expressions will be mathematical operators.\n",
    "\n",
    "*         -----> expression\n",
    "hello     -----> values\n",
    "-87.8     -----> values\n",
    "-         -----> expression\n",
    "/         -----> expression\n",
    "+         -----> expression\n",
    "6         -----> values"
   ]
  },
  {
   "cell_type": "raw",
   "id": "2a9451fa",
   "metadata": {},
   "source": [
    "2. What is the difference between string and variable?\n",
    "A Variable is a store of information, and a String is a type of information you would store in a Variable"
   ]
  },
  {
   "cell_type": "raw",
   "id": "e6faffa6",
   "metadata": {},
   "source": [
    "3. Describe three different data types. \n",
    "Int -->  store Whole number\n",
    "bool --> store True and False\n",
    "str  --> store string\n"
   ]
  },
  {
   "cell_type": "raw",
   "id": "fb5c893c",
   "metadata": {},
   "source": [
    "4.What is an expression made up of? What do all expressions do\n",
    "An expression is a combination of operators and operands that is interpreted to produce some other value."
   ]
  },
  {
   "cell_type": "raw",
   "id": "95316e3b",
   "metadata": {},
   "source": [
    "5.This assignment statements, like spam = 10. What is the difference between an\n",
    "expression and a statement?\n",
    "Expression is made up of values, containers, and mathematical operators (operands) and the statement is just like a command that a python interpreter executes like print"
   ]
  },
  {
   "cell_type": "raw",
   "id": "2cf80544",
   "metadata": {},
   "source": [
    "6. After running the following code, what does the variable bacon contain?\n",
    "bacon = 22\n",
    "bacon + 1\n",
    "\n",
    "22"
   ]
  },
  {
   "cell_type": "raw",
   "id": "1baf4072",
   "metadata": {},
   "source": [
    "7. What should the values of the following two terms be?\n",
    "'spam' + 'spamspam'\n",
    "'spam' * 3\n",
    "\n",
    "spamspamspam"
   ]
  },
  {
   "cell_type": "raw",
   "id": "2557b0e6",
   "metadata": {},
   "source": [
    "8. Why is eggs a valid variable name while 100 is invalid?\n",
    "\n",
    "Variable names cannot begin with a number"
   ]
  },
  {
   "cell_type": "raw",
   "id": "945afe48",
   "metadata": {},
   "source": [
    "9. What three functions can be used to get the integer, floating-point number, or string version of a value?\n",
    "\n",
    " int() , float() , and str( ) functions "
   ]
  },
  {
   "cell_type": "raw",
   "id": "477f9192",
   "metadata": {},
   "source": [
    "10. Why does this expression cause an error? How can you fix it?\n",
    "'I have eaten' + 99 + 'burritos'\n",
    "\n",
    "we will not add int in str datatype . Fix for this error  just apply '' quotes in value 99."
   ]
  }
 ],
 "metadata": {
  "kernelspec": {
   "display_name": "Python 3 (ipykernel)",
   "language": "python",
   "name": "python3"
  },
  "language_info": {
   "codemirror_mode": {
    "name": "ipython",
    "version": 3
   },
   "file_extension": ".py",
   "mimetype": "text/x-python",
   "name": "python",
   "nbconvert_exporter": "python",
   "pygments_lexer": "ipython3",
   "version": "3.9.12"
  }
 },
 "nbformat": 4,
 "nbformat_minor": 5
}
